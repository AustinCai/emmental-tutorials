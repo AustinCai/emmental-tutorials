{
 "cells": [
  {
   "cell_type": "code",
   "execution_count": 1,
   "metadata": {},
   "outputs": [],
   "source": [
    "%load_ext autoreload\n",
    "%autoreload 2"
   ]
  },
  {
   "cell_type": "code",
   "execution_count": 2,
   "metadata": {},
   "outputs": [],
   "source": [
    "import logging\n",
    "from functools import partial\n",
    "\n",
    "import torch.nn.functional as F\n",
    "from torch import nn\n",
    "import torch\n",
    "import emmental\n",
    "from emmental import Meta\n",
    "from emmental.learner import EmmentalLearner\n",
    "from emmental.model import EmmentalModel\n",
    "from emmental.scorer import Scorer\n",
    "from emmental.task import EmmentalTask\n",
    "from modules.bert_module import BertModule\n",
    "from parse_WSC import get_WSC_dataloaders\n",
    "from task_config import SuperGLUE_LABEL_MAPPING, SuperGLUE_TASK_METRIC_MAPPING\n",
    "from sklearn.metrics import f1_score"
   ]
  },
  {
   "cell_type": "code",
   "execution_count": 3,
   "metadata": {},
   "outputs": [],
   "source": [
    "logger = logging.getLogger(__name__)"
   ]
  },
  {
   "cell_type": "markdown",
   "metadata": {},
   "source": [
    "# Initalize Emmental"
   ]
  },
  {
   "cell_type": "code",
   "execution_count": 4,
   "metadata": {},
   "outputs": [
    {
     "name": "stderr",
     "output_type": "stream",
     "text": [
      "[2019-05-29 04:39:39,809][INFO] emmental.meta:95 - Setting logging directory to: logs/2019_05_29/04_39_39\n",
      "[2019-05-29 04:39:39,826][INFO] emmental.meta:56 - Loading Emmental default config from /dfs/scratch1/senwu/mmtl/emmental/src/emmental/emmental-default-config.yaml.\n",
      "[2019-05-29 04:39:39,827][INFO] emmental.meta:143 - Updating Emmental config from user provided config.\n"
     ]
    }
   ],
   "source": [
    "emmental.init(\n",
    "    \"logs\",\n",
    "    config={\n",
    "        \"meta_config\": {\"seed\": 111},\n",
    "        \"model_config\": {\"device\": 1, \"dataparallel\": False},\n",
    "        \"learner_config\": {\n",
    "            \"n_epochs\": 10,\n",
    "            \"valid_split\": \"val\",\n",
    "            \"optimizer_config\": {\"optimizer\": \"adam\", \"lr\": 1e-5},\n",
    "            \"lr_scheduler_config\": {\n",
    "                #                 \"warmup_percentage\": 0.1,\n",
    "                \"lr_scheduler\": \"linear\",  # \"linear\",\n",
    "                \"min_lr\": 1e-7,\n",
    "            },\n",
    "        },\n",
    "        \"logging_config\": {\n",
    "            \"counter_unit\": \"epoch\",\n",
    "            \"evaluation_freq\": 1,\n",
    "            \"checkpointing\": True,\n",
    "            \"checkpointer_config\": {\n",
    "                \"checkpoint_metric\": {\"WSC/SuperGLUE/val/accuracy\":\"max\"},\n",
    "                \"checkpoint_freq\": 1,\n",
    "            },\n",
    "        },\n",
    "    },\n",
    ")"
   ]
  },
  {
   "cell_type": "code",
   "execution_count": 5,
   "metadata": {},
   "outputs": [
    {
     "data": {
      "text/plain": [
       "{'meta_config': {'seed': 111, 'verbose': True, 'log_path': None},\n",
       " 'model_config': {'model_path': None, 'device': 1, 'dataparallel': False},\n",
       " 'learner_config': {'fp16': False,\n",
       "  'n_epochs': 10,\n",
       "  'train_split': 'train',\n",
       "  'valid_split': 'val',\n",
       "  'test_split': 'test',\n",
       "  'ignore_index': 0,\n",
       "  'optimizer_config': {'optimizer': 'adam',\n",
       "   'lr': 1e-05,\n",
       "   'l2': 0.0,\n",
       "   'grad_clip': 5.0,\n",
       "   'sgd_config': {'momentum': 0.9},\n",
       "   'adam_config': {'betas': (0.9, 0.999)}},\n",
       "  'lr_scheduler_config': {'lr_scheduler': None,\n",
       "   'warmup_steps': None,\n",
       "   'warmup_unit': 'batch',\n",
       "   'warmup_percentage': None,\n",
       "   'min_lr': 1e-07,\n",
       "   'linear_config': {'min_lr': 0.0},\n",
       "   'exponential_config': {'gamma': 0.9},\n",
       "   'plateau_config': {'factor': 0.5, 'patience': 10, 'threshold': 0.0001}},\n",
       "  'task_scheduler': 'round_robin',\n",
       "  'global_evaluation_metric_dict': None},\n",
       " 'logging_config': {'counter_unit': 'epoch',\n",
       "  'evaluation_freq': 1,\n",
       "  'writer_config': {'writer': 'tensorboard', 'verbose': True},\n",
       "  'checkpointing': True,\n",
       "  'checkpointer_config': {'checkpoint_path': None,\n",
       "   'checkpoint_freq': 1,\n",
       "   'checkpoint_metric': {'WSC/SuperGLUE/val/accuracy': 'max'},\n",
       "   'checkpoint_task_metrics': None,\n",
       "   'checkpoint_runway': 0,\n",
       "   'checkpoint_clear': True}}}"
      ]
     },
     "execution_count": 5,
     "metadata": {},
     "output_type": "execute_result"
    }
   ],
   "source": [
    "Meta.config"
   ]
  },
  {
   "cell_type": "code",
   "execution_count": 6,
   "metadata": {},
   "outputs": [],
   "source": [
    "TASK_NAME = \"WSC\"\n",
    "DATA_DIR = \"data\"\n",
    "BERT_MODEL_NAME = \"bert-large-cased\"\n",
    "BATCH_SIZE = 4\n",
    "\n",
    "BERT_OUTPUT_DIM = 768 if \"base\" in BERT_MODEL_NAME else 1024\n",
    "TASK_CARDINALITY = (\n",
    "    len(SuperGLUE_LABEL_MAPPING[TASK_NAME].keys())\n",
    "    if SuperGLUE_LABEL_MAPPING[TASK_NAME] is not None\n",
    "    else 1\n",
    ")"
   ]
  },
  {
   "cell_type": "markdown",
   "metadata": {},
   "source": [
    "# Extract train/dev dataset from file"
   ]
  },
  {
   "cell_type": "code",
   "execution_count": 7,
   "metadata": {
    "scrolled": false
   },
   "outputs": [
    {
     "name": "stderr",
     "output_type": "stream",
     "text": [
      "[2019-05-29 04:39:39,959][INFO] tokenizer:8 - Loading Tokenizer bert-large-cased\n",
      "[2019-05-29 04:39:40,236][INFO] pytorch_pretrained_bert.tokenization:190 - loading vocabulary file https://s3.amazonaws.com/models.huggingface.co/bert/bert-large-cased-vocab.txt from cache at /lfs/local/0/senwu/.pytorch_pretrained_bert/cee054f6aafe5e2cf816d2228704e326446785f940f5451a5b26033516a4ac3d.e13dbb970cb325137104fb2e5f36fe865f27746c6b526f6352861b1980eb80b1\n",
      "[2019-05-29 04:39:40,322][INFO] parse_WSC:128 - Loaded train for WSC. True\n",
      "[2019-05-29 04:39:40,333][INFO] parse_WSC:128 - Loaded val for WSC. False\n",
      "[2019-05-29 04:39:40,347][INFO] parse_WSC:128 - Loaded test for WSC. False\n"
     ]
    },
    {
     "name": "stdout",
     "output_type": "stream",
     "text": [
      "data/WSC/train.jsonl.retokenized.bert-large-cased\n",
      "{'idx': 0, 'label': False, 'target': {'span2_index': 13, 'span1_index': 0, 'span1_text': 'Mark', 'span2_text': 'He', 'span1': [0, 1], 'span2': [15, 16]}, 'text': 'Mark told Pete many lies about himself , which Pete included in his book . He should have been more skeptical .'}\n",
      "max len 114\n",
      "data/WSC/val.jsonl.retokenized.bert-large-cased\n",
      "{'idx': 0, 'label': False, 'target': {'span2_index': 47, 'span1_index': 32, 'span1_text': 'anyone', 'span2_text': 'him', 'span1': [37, 38], 'span2': [52, 53]}, 'text': 'Bernard , who had not told the government official that he was less than 21 when he filed for a homestead claim , did not consider that he had done anything dish ##ones ##t . Still , anyone who knew that he was 19 years old could take his claim away from him .'}\n",
      "max len 65\n",
      "data/WSC/test.jsonl.retokenized.bert-large-cased\n",
      "{'idx': 0, 'target': {'span1_text': 'Maude and Dora', 'span1_index': 0, 'span2_text': 'they', 'span2_index': 40, 'span1': [0, 4], 'span2': [49, 50]}, 'text': 'Maud ##e and Dora had seen the trains rushing across the prairie , with long , rolling pu ##ffs of black smoke streaming back from the engine . Their roar ##s and their wild , clear whistle ##s could be heard from far away . Horses ran away when they came in sight .'}\n",
      "max len 79\n"
     ]
    }
   ],
   "source": [
    "dataloaders = get_WSC_dataloaders(\n",
    "    data_dir=DATA_DIR,\n",
    "    task_name=TASK_NAME,\n",
    "    splits=[\"train\", \"val\", \"test\"],\n",
    "    max_sequence_length=256,\n",
    "    max_data_samples=None,\n",
    "    tokenizer_name=BERT_MODEL_NAME,\n",
    "    batch_size=BATCH_SIZE,\n",
    ")"
   ]
  },
  {
   "cell_type": "markdown",
   "metadata": {},
   "source": [
    "# Build Emmental task"
   ]
  },
  {
   "cell_type": "code",
   "execution_count": 9,
   "metadata": {},
   "outputs": [],
   "source": [
    "def ce_loss(task_name, immediate_ouput_dict, Y, active):\n",
    "    module_name = f\"{task_name}_pred_head\"\n",
    "    return F.cross_entropy(\n",
    "        immediate_ouput_dict[module_name][0][active], (Y.view(-1) - 1)[active]\n",
    "    )"
   ]
  },
  {
   "cell_type": "code",
   "execution_count": 10,
   "metadata": {},
   "outputs": [],
   "source": [
    "def output(task_name, immediate_ouput_dict):\n",
    "    module_name = f\"{task_name}_pred_head\"\n",
    "    return F.softmax(immediate_ouput_dict[module_name][0], dim=1)"
   ]
  },
  {
   "cell_type": "code",
   "execution_count": 11,
   "metadata": {},
   "outputs": [],
   "source": [
    "from allennlp.modules.span_extractors import SelfAttentiveSpanExtractor\n",
    "\n",
    "\n",
    "class SpanClassifierModule(nn.Module):\n",
    "    def _make_span_extractor(self):\n",
    "        return SelfAttentiveSpanExtractor(self.proj_dim)\n",
    "\n",
    "    def _make_cnn_layer(self, d_inp):\n",
    "        \"\"\"\n",
    "        Make a CNN layer as a projection of local context.\n",
    "        CNN maps [batch_size, max_len, d_inp]\n",
    "        to [batch_size, max_len, proj_dim] with no change in length.\n",
    "        \"\"\"\n",
    "        k = 1 + 2 * self.cnn_context\n",
    "        padding = self.cnn_context\n",
    "        return nn.Conv1d(\n",
    "            d_inp,\n",
    "            self.proj_dim,\n",
    "            kernel_size=k,\n",
    "            stride=1,\n",
    "            padding=padding,\n",
    "            dilation=1,\n",
    "            groups=1,\n",
    "            bias=True,\n",
    "        )\n",
    "\n",
    "    def __init__(\n",
    "        self,\n",
    "        d_inp=BERT_OUTPUT_DIM,\n",
    "        proj_dim=BERT_OUTPUT_DIM // 2,\n",
    "        num_spans=2,\n",
    "        cnn_context=0,\n",
    "        n_classes=2,\n",
    "    ):\n",
    "        super().__init__()\n",
    "\n",
    "        self.cnn_context = cnn_context\n",
    "        self.num_spans = num_spans\n",
    "        self.proj_dim = proj_dim\n",
    "        self.projs = torch.nn.ModuleList()\n",
    "\n",
    "        for i in range(num_spans):\n",
    "            # create a word-level pooling layer operator\n",
    "            proj = self._make_cnn_layer(d_inp)\n",
    "            self.projs.append(proj)\n",
    "        self.span_extractors = torch.nn.ModuleList()\n",
    "\n",
    "        # Lee's self-pooling operator (https://arxiv.org/abs/1812.10860)\n",
    "        for i in range(num_spans):\n",
    "            span_extractor = self._make_span_extractor()\n",
    "            self.span_extractors.append(span_extractor)\n",
    "\n",
    "        # Classifier gets concatenated projections of spans.\n",
    "        clf_input_dim = self.span_extractors[1].get_output_dim() * num_spans\n",
    "        self.classifier = nn.Linear(clf_input_dim, n_classes)\n",
    "\n",
    "    def forward(self, feature, span1_idxs, span2_idxs, mask):\n",
    "        # Apply projection CNN layer for each span of the input sentence\n",
    "        sent_embs_t = feature[-1].transpose(1, 2)  # needed for CNN layer\n",
    "\n",
    "        se_projs = []\n",
    "        for i in range(self.num_spans):\n",
    "            se_proj = self.projs[i](sent_embs_t).transpose(2, 1).contiguous()\n",
    "            se_projs.append(se_proj)\n",
    "\n",
    "        span_embs = None\n",
    "\n",
    "        _kw = dict(sequence_mask=mask.unsqueeze(2).long())\n",
    "        span_idxs = [span1_idxs.unsqueeze(1), span2_idxs.unsqueeze(1)]\n",
    "        for i in range(self.num_spans):\n",
    "            # spans are [batch_size, num_targets, span_modules]\n",
    "            span_emb = self.span_extractors[i](se_projs[i], span_idxs[i], **_kw)\n",
    "            if span_embs is None:\n",
    "                span_embs = span_emb\n",
    "            else:\n",
    "                span_embs = torch.cat([span_embs, span_emb], dim=2)\n",
    "\n",
    "        # [batch_size, num_targets, n_classes]\n",
    "        logits = self.classifier(span_embs).squeeze(1)\n",
    "\n",
    "        return logits"
   ]
  },
  {
   "cell_type": "code",
   "execution_count": 12,
   "metadata": {},
   "outputs": [
    {
     "name": "stderr",
     "output_type": "stream",
     "text": [
      "[2019-05-29 04:39:41,715][INFO] pytorch_pretrained_bert.modeling:580 - loading archive file https://s3.amazonaws.com/models.huggingface.co/bert/bert-large-cased.tar.gz from cache at ./cache/7fb0534b83c42daee7d3ddb0ebaa81387925b71665d6ea195c5447f1077454cd.eea60d9ebb03c75bb36302aa9d241d3b7a04bba39c360cf035e8bf8140816233\n",
      "[2019-05-29 04:39:41,717][INFO] pytorch_pretrained_bert.modeling:588 - extracting archive file ./cache/7fb0534b83c42daee7d3ddb0ebaa81387925b71665d6ea195c5447f1077454cd.eea60d9ebb03c75bb36302aa9d241d3b7a04bba39c360cf035e8bf8140816233 to temp dir /tmp/tmpft5jn_nv\n",
      "[2019-05-29 04:39:59,223][INFO] pytorch_pretrained_bert.modeling:598 - Model config {\n",
      "  \"attention_probs_dropout_prob\": 0.1,\n",
      "  \"directionality\": \"bidi\",\n",
      "  \"hidden_act\": \"gelu\",\n",
      "  \"hidden_dropout_prob\": 0.1,\n",
      "  \"hidden_size\": 1024,\n",
      "  \"initializer_range\": 0.02,\n",
      "  \"intermediate_size\": 4096,\n",
      "  \"max_position_embeddings\": 512,\n",
      "  \"num_attention_heads\": 16,\n",
      "  \"num_hidden_layers\": 24,\n",
      "  \"pooler_fc_size\": 768,\n",
      "  \"pooler_num_attention_heads\": 12,\n",
      "  \"pooler_num_fc_layers\": 3,\n",
      "  \"pooler_size_per_head\": 128,\n",
      "  \"pooler_type\": \"first_token_transform\",\n",
      "  \"type_vocab_size\": 2,\n",
      "  \"vocab_size\": 28996\n",
      "}\n",
      "\n",
      "[2019-05-29 04:40:30,663][INFO] emmental.task:34 - Created task: WSC\n"
     ]
    }
   ],
   "source": [
    "emmental_task = EmmentalTask(\n",
    "    name=TASK_NAME,\n",
    "    module_pool=nn.ModuleDict(\n",
    "        {\n",
    "            \"bert_module\": BertModule(BERT_MODEL_NAME),\n",
    "            f\"{TASK_NAME}_pred_head\": SpanClassifierModule(),\n",
    "        }\n",
    "    ),\n",
    "    task_flow=[\n",
    "        {\n",
    "            \"name\": \"input\",\n",
    "            \"module\": \"bert_module\",\n",
    "            \"inputs\": [\n",
    "                (\"_input_\", \"token_ids\"),\n",
    "                (\"_input_\", \"token_segments\"),\n",
    "                (\"_input_\", \"token_masks\"),\n",
    "            ],\n",
    "        },\n",
    "        {\n",
    "            \"name\": f\"{TASK_NAME}_pred_head\",\n",
    "            \"module\": f\"{TASK_NAME}_pred_head\",\n",
    "            \"inputs\": [\n",
    "                (\"input\", 0),\n",
    "                (\"_input_\", \"span1_idxs\"),\n",
    "                (\"_input_\", \"span2_idxs\"),\n",
    "                (\"_input_\", \"token_masks\"),\n",
    "            ],\n",
    "        },\n",
    "    ],\n",
    "    loss_func=partial(ce_loss, TASK_NAME),\n",
    "    output_func=partial(output, TASK_NAME),\n",
    "    scorer=Scorer(metrics=SuperGLUE_TASK_METRIC_MAPPING[TASK_NAME]),\n",
    ")"
   ]
  },
  {
   "cell_type": "code",
   "execution_count": 13,
   "metadata": {},
   "outputs": [
    {
     "name": "stderr",
     "output_type": "stream",
     "text": [
      "[2019-05-29 04:40:30,729][INFO] emmental.model:58 - Moving model to GPU (cuda:1).\n",
      "[2019-05-29 04:40:36,681][INFO] emmental.model:44 - Created emmental model SuperGLUE_single_task that contains task {'WSC'}.\n",
      "[2019-05-29 04:40:36,684][INFO] emmental.model:58 - Moving model to GPU (cuda:1).\n"
     ]
    }
   ],
   "source": [
    "mtl_model = EmmentalModel(name=\"SuperGLUE_single_task\", tasks=[emmental_task])"
   ]
  },
  {
   "cell_type": "code",
   "execution_count": 14,
   "metadata": {},
   "outputs": [],
   "source": [
    "emmental_learner = EmmentalLearner()"
   ]
  },
  {
   "cell_type": "code",
   "execution_count": null,
   "metadata": {},
   "outputs": [],
   "source": []
  },
  {
   "cell_type": "code",
   "execution_count": 15,
   "metadata": {
    "scrolled": false
   },
   "outputs": [
    {
     "name": "stderr",
     "output_type": "stream",
     "text": [
      "[2019-05-29 04:40:36,798][INFO] emmental.logging.logging_manager:33 - Evaluating every 1 epoch.\n",
      "[2019-05-29 04:40:36,799][INFO] emmental.logging.logging_manager:43 - Checkpointing every 1 epoch.\n",
      "[2019-05-29 04:40:36,801][INFO] emmental.logging.checkpointer:42 - Save checkpoints at logs/2019_05_29/04_39_39 every 1 epoch\n",
      "[2019-05-29 04:40:36,801][INFO] emmental.logging.checkpointer:73 - No checkpoints saved before 0 epoch.\n",
      "[2019-05-29 04:40:36,848][INFO] root:123 - Generating grammar tables from /usr/lib/python3.6/lib2to3/Grammar.txt\n",
      "[2019-05-29 04:40:37,009][INFO] root:123 - Generating grammar tables from /usr/lib/python3.6/lib2to3/PatternGrammar.txt\n",
      "[2019-05-29 04:40:37,042][INFO] emmental.learner:299 - Start learning...\n"
     ]
    },
    {
     "data": {
      "application/vnd.jupyter.widget-view+json": {
       "model_id": "5bd074fc13d348f7976a1492a32bada3",
       "version_major": 2,
       "version_minor": 0
      },
      "text/plain": [
       "HBox(children=(IntProgress(value=0, description='Epoch 0:', max=139, style=ProgressStyle(description_width='in…"
      ]
     },
     "metadata": {},
     "output_type": "display_data"
    },
    {
     "name": "stderr",
     "output_type": "stream",
     "text": [
      "[2019-05-29 04:41:40,334][INFO] emmental.logging.checkpointer:93 - checkpoint_runway condition has been met. Start checkpoining.\n",
      "/lfs/raiders3/0/senwu/.venv_emmental/lib/python3.6/site-packages/torch/serialization.py:256: UserWarning: Couldn't retrieve source code for container of type SpanClassifierModule. It won't be checked for correctness upon loading.\n",
      "  \"type \" + obj.__name__ + \". It won't be checked \"\n",
      "[2019-05-29 04:41:50,708][INFO] emmental.logging.checkpointer:103 - Save checkpoint of 1.0 epoch at logs/2019_05_29/04_39_39/checkpoint_1.0.pth.\n",
      "[2019-05-29 04:42:01,037][INFO] emmental.logging.checkpointer:119 - Save best model of metric WSC/SuperGLUE/val/accuracy at logs/2019_05_29/04_39_39/best_model_WSC_SuperGLUE_val_accuracy.pth\n"
     ]
    },
    {
     "name": "stdout",
     "output_type": "stream",
     "text": [
      "\n"
     ]
    },
    {
     "data": {
      "application/vnd.jupyter.widget-view+json": {
       "model_id": "80c5cd615d2c491aa405f1b97326225e",
       "version_major": 2,
       "version_minor": 0
      },
      "text/plain": [
       "HBox(children=(IntProgress(value=0, description='Epoch 1:', max=139, style=ProgressStyle(description_width='in…"
      ]
     },
     "metadata": {},
     "output_type": "display_data"
    },
    {
     "name": "stderr",
     "output_type": "stream",
     "text": [
      "[2019-05-29 04:43:12,779][INFO] emmental.logging.checkpointer:103 - Save checkpoint of 2.0 epoch at logs/2019_05_29/04_39_39/checkpoint_2.0.pth.\n"
     ]
    },
    {
     "name": "stdout",
     "output_type": "stream",
     "text": [
      "\n"
     ]
    },
    {
     "data": {
      "application/vnd.jupyter.widget-view+json": {
       "model_id": "1ba04b5c430849c5b09be3a3acf90a42",
       "version_major": 2,
       "version_minor": 0
      },
      "text/plain": [
       "HBox(children=(IntProgress(value=0, description='Epoch 2:', max=139, style=ProgressStyle(description_width='in…"
      ]
     },
     "metadata": {},
     "output_type": "display_data"
    },
    {
     "name": "stderr",
     "output_type": "stream",
     "text": [
      "[2019-05-29 04:44:24,336][INFO] emmental.logging.checkpointer:103 - Save checkpoint of 3.0 epoch at logs/2019_05_29/04_39_39/checkpoint_3.0.pth.\n"
     ]
    },
    {
     "name": "stdout",
     "output_type": "stream",
     "text": [
      "\n"
     ]
    },
    {
     "data": {
      "application/vnd.jupyter.widget-view+json": {
       "model_id": "c3618096ad7340278a646576fa6a002b",
       "version_major": 2,
       "version_minor": 0
      },
      "text/plain": [
       "HBox(children=(IntProgress(value=0, description='Epoch 3:', max=139, style=ProgressStyle(description_width='in…"
      ]
     },
     "metadata": {},
     "output_type": "display_data"
    },
    {
     "name": "stderr",
     "output_type": "stream",
     "text": [
      "[2019-05-29 04:45:37,542][INFO] emmental.logging.checkpointer:103 - Save checkpoint of 4.0 epoch at logs/2019_05_29/04_39_39/checkpoint_4.0.pth.\n"
     ]
    },
    {
     "name": "stdout",
     "output_type": "stream",
     "text": [
      "\n"
     ]
    },
    {
     "data": {
      "application/vnd.jupyter.widget-view+json": {
       "model_id": "9abffad22b3740d2890123582918f834",
       "version_major": 2,
       "version_minor": 0
      },
      "text/plain": [
       "HBox(children=(IntProgress(value=0, description='Epoch 4:', max=139, style=ProgressStyle(description_width='in…"
      ]
     },
     "metadata": {},
     "output_type": "display_data"
    },
    {
     "name": "stderr",
     "output_type": "stream",
     "text": [
      "[2019-05-29 04:46:55,739][INFO] emmental.logging.checkpointer:103 - Save checkpoint of 5.0 epoch at logs/2019_05_29/04_39_39/checkpoint_5.0.pth.\n",
      "[2019-05-29 04:47:07,353][INFO] emmental.logging.checkpointer:119 - Save best model of metric WSC/SuperGLUE/val/accuracy at logs/2019_05_29/04_39_39/best_model_WSC_SuperGLUE_val_accuracy.pth\n"
     ]
    },
    {
     "name": "stdout",
     "output_type": "stream",
     "text": [
      "\n"
     ]
    },
    {
     "data": {
      "application/vnd.jupyter.widget-view+json": {
       "model_id": "17681c682d09456182f28093f931a431",
       "version_major": 2,
       "version_minor": 0
      },
      "text/plain": [
       "HBox(children=(IntProgress(value=0, description='Epoch 5:', max=139, style=ProgressStyle(description_width='in…"
      ]
     },
     "metadata": {},
     "output_type": "display_data"
    },
    {
     "name": "stderr",
     "output_type": "stream",
     "text": [
      "[2019-05-29 04:48:19,917][INFO] emmental.logging.checkpointer:103 - Save checkpoint of 6.0 epoch at logs/2019_05_29/04_39_39/checkpoint_6.0.pth.\n"
     ]
    },
    {
     "name": "stdout",
     "output_type": "stream",
     "text": [
      "\n"
     ]
    },
    {
     "data": {
      "application/vnd.jupyter.widget-view+json": {
       "model_id": "f307d8a8382b454b998e0ce89496d37f",
       "version_major": 2,
       "version_minor": 0
      },
      "text/plain": [
       "HBox(children=(IntProgress(value=0, description='Epoch 6:', max=139, style=ProgressStyle(description_width='in…"
      ]
     },
     "metadata": {},
     "output_type": "display_data"
    },
    {
     "name": "stderr",
     "output_type": "stream",
     "text": [
      "[2019-05-29 04:49:33,174][INFO] emmental.logging.checkpointer:103 - Save checkpoint of 7.0 epoch at logs/2019_05_29/04_39_39/checkpoint_7.0.pth.\n"
     ]
    },
    {
     "name": "stdout",
     "output_type": "stream",
     "text": [
      "\n"
     ]
    },
    {
     "data": {
      "application/vnd.jupyter.widget-view+json": {
       "model_id": "4c48304baad74e6497f14af3f90dd27e",
       "version_major": 2,
       "version_minor": 0
      },
      "text/plain": [
       "HBox(children=(IntProgress(value=0, description='Epoch 7:', max=139, style=ProgressStyle(description_width='in…"
      ]
     },
     "metadata": {},
     "output_type": "display_data"
    },
    {
     "name": "stderr",
     "output_type": "stream",
     "text": [
      "[2019-05-29 04:50:47,215][INFO] emmental.logging.checkpointer:103 - Save checkpoint of 8.0 epoch at logs/2019_05_29/04_39_39/checkpoint_8.0.pth.\n"
     ]
    },
    {
     "name": "stdout",
     "output_type": "stream",
     "text": [
      "\n"
     ]
    },
    {
     "data": {
      "application/vnd.jupyter.widget-view+json": {
       "model_id": "cfa9f03ce5e543889dd21a25c7ab574a",
       "version_major": 2,
       "version_minor": 0
      },
      "text/plain": [
       "HBox(children=(IntProgress(value=0, description='Epoch 8:', max=139, style=ProgressStyle(description_width='in…"
      ]
     },
     "metadata": {},
     "output_type": "display_data"
    },
    {
     "name": "stderr",
     "output_type": "stream",
     "text": [
      "[2019-05-29 04:52:00,143][INFO] emmental.logging.checkpointer:103 - Save checkpoint of 9.0 epoch at logs/2019_05_29/04_39_39/checkpoint_9.0.pth.\n",
      "[2019-05-29 04:52:13,020][INFO] emmental.logging.checkpointer:119 - Save best model of metric WSC/SuperGLUE/val/accuracy at logs/2019_05_29/04_39_39/best_model_WSC_SuperGLUE_val_accuracy.pth\n"
     ]
    },
    {
     "name": "stdout",
     "output_type": "stream",
     "text": [
      "\n"
     ]
    },
    {
     "data": {
      "application/vnd.jupyter.widget-view+json": {
       "model_id": "3f6b3126ba0c433c90488978b579a8bb",
       "version_major": 2,
       "version_minor": 0
      },
      "text/plain": [
       "HBox(children=(IntProgress(value=0, description='Epoch 9:', max=139, style=ProgressStyle(description_width='in…"
      ]
     },
     "metadata": {},
     "output_type": "display_data"
    },
    {
     "name": "stderr",
     "output_type": "stream",
     "text": [
      "[2019-05-29 04:53:26,605][INFO] emmental.logging.checkpointer:103 - Save checkpoint of 10.0 epoch at logs/2019_05_29/04_39_39/checkpoint_10.0.pth.\n",
      "[2019-05-29 04:53:38,338][INFO] emmental.logging.checkpointer:119 - Save best model of metric WSC/SuperGLUE/val/accuracy at logs/2019_05_29/04_39_39/best_model_WSC_SuperGLUE_val_accuracy.pth\n",
      "[2019-05-29 04:53:38,394][INFO] emmental.logging.checkpointer:149 - Clear all immediate checkpoints.\n"
     ]
    },
    {
     "name": "stdout",
     "output_type": "stream",
     "text": [
      "\n"
     ]
    },
    {
     "name": "stderr",
     "output_type": "stream",
     "text": [
      "[2019-05-29 04:53:42,480][INFO] emmental.logging.checkpointer:189 - Loading the best model from logs/2019_05_29/04_39_39/best_model_WSC_SuperGLUE_val_accuracy.pth.\n",
      "[2019-05-29 04:53:45,349][INFO] emmental.model:58 - Moving model to GPU (cuda:1).\n"
     ]
    }
   ],
   "source": [
    "emmental_learner.learn(mtl_model, dataloaders.values())"
   ]
  },
  {
   "cell_type": "code",
   "execution_count": 16,
   "metadata": {},
   "outputs": [
    {
     "data": {
      "text/plain": [
       "{'WSC/SuperGLUE/val/accuracy': 0.6730769230769231}"
      ]
     },
     "execution_count": 16,
     "metadata": {},
     "output_type": "execute_result"
    }
   ],
   "source": [
    "mtl_model.score(dataloaders[\"val\"])"
   ]
  },
  {
   "cell_type": "code",
   "execution_count": 17,
   "metadata": {},
   "outputs": [
    {
     "data": {
      "text/plain": [
       "{'WSC/SuperGLUE/train/accuracy': 0.9007220216606499}"
      ]
     },
     "execution_count": 17,
     "metadata": {},
     "output_type": "execute_result"
    }
   ],
   "source": [
    "mtl_model.score(dataloaders[\"train\"])"
   ]
  },
  {
   "cell_type": "code",
   "execution_count": null,
   "metadata": {},
   "outputs": [],
   "source": []
  }
 ],
 "metadata": {
  "kernelspec": {
   "display_name": "Python 3",
   "language": "python",
   "name": "python3"
  },
  "language_info": {
   "codemirror_mode": {
    "name": "ipython",
    "version": 3
   },
   "file_extension": ".py",
   "mimetype": "text/x-python",
   "name": "python",
   "nbconvert_exporter": "python",
   "pygments_lexer": "ipython3",
   "version": "3.6.3"
  }
 },
 "nbformat": 4,
 "nbformat_minor": 2
}
