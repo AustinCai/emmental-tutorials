{
 "cells": [
  {
   "cell_type": "markdown",
   "metadata": {},
   "source": [
    "# Setup "
   ]
  },
  {
   "cell_type": "markdown",
   "metadata": {},
   "source": [
    "Slicing Formula:\n",
    "1. look at errors for ideas\n",
    "2. write a slice function\n",
    "3. check slice size (large enough to matter?)\n",
    "4. check performance on that slice with trained model (are we underperforming?)\n",
    "5. train a model on just that slice (can we do better on it?)\n",
    "6. train a full model including that slice (does that gain persist?)"
   ]
  },
  {
   "cell_type": "code",
   "execution_count": null,
   "metadata": {},
   "outputs": [],
   "source": [
    "%load_ext autoreload\n",
    "%autoreload 2"
   ]
  },
  {
   "cell_type": "code",
   "execution_count": null,
   "metadata": {},
   "outputs": [],
   "source": [
    "import sys\n",
    "import os\n",
    "sys.path.append('../')"
   ]
  },
  {
   "cell_type": "code",
   "execution_count": null,
   "metadata": {},
   "outputs": [],
   "source": [
    "import logging\n",
    "from functools import partial\n",
    "\n",
    "import torch\n",
    "from torch import nn\n",
    "import torch.nn.functional as F\n",
    "\n",
    "import emmental\n",
    "from dataloaders import get_dataloaders\n",
    "from emmental import Meta\n",
    "from emmental.learner import EmmentalLearner\n",
    "from emmental.model import EmmentalModel\n",
    "from emmental.scorer import Scorer\n",
    "from emmental.task import EmmentalTask\n",
    "from modules.bert_module import BertModule\n",
    "from slicing.slicing_function import slicing_function\n",
    "from task_config import SuperGLUE_LABEL_MAPPING, SuperGLUE_TASK_METRIC_MAPPING"
   ]
  },
  {
   "cell_type": "code",
   "execution_count": null,
   "metadata": {},
   "outputs": [],
   "source": [
    "logger = logging.getLogger(__name__)"
   ]
  },
  {
   "cell_type": "code",
   "execution_count": null,
   "metadata": {
    "scrolled": false
   },
   "outputs": [],
   "source": [
    "PKL_PATH = \"/dfs/scratch1/bradenjh/emmental-tutorials/superglue/logs/2019_06_04/14_22_40/best_model_WiC_SuperGLUE_val_accuracy.pth\"\n",
    "SPLIT = \"val\"\n",
    "\n",
    "TASK_NAME = \"WiC\"\n",
    "DATA_DIR = os.environ[\"SUPERGLUEDATA\"]\n",
    "BERT_MODEL_NAME = \"bert-large-cased\"\n",
    "BATCH_SIZE = 4\n",
    "\n",
    "emmental.init(\n",
    "    \"logs\",\n",
    "    config={\n",
    "        \"model_config\": {\"device\": 0, \"dataparallel\": False},\n",
    "        \"learner_config\": {\n",
    "            \"n_epochs\": 5,\n",
    "            \"valid_split\": \"val\",\n",
    "            \"optimizer_config\": {\"optimizer\": \"adam\", \"lr\": 1e-5},\n",
    "            \"min_lr\": 0,\n",
    "            \"lr_scheduler_config\": {\n",
    "                \"warmup_percentage\": 0.1,\n",
    "                \"lr_scheduler\": None,\n",
    "            },\n",
    "        },\n",
    "        \"logging_config\": {\n",
    "            \"counter_unit\": \"epoch\",\n",
    "            \"evaluation_freq\": 0.25,\n",
    "            \"checkpointing\": True,\n",
    "            \"checkpointer_config\": {\n",
    "                \"checkpoint_metric\": {\"RTE/SuperGLUE/val/accuracy\":\"max\"},\n",
    "                \"checkpoint_freq\": 1,\n",
    "            },\n",
    "        },\n",
    "    },\n",
    ")\n",
    "\n",
    "dataloaders = get_dataloaders(\n",
    "            data_dir=DATA_DIR,\n",
    "            task_name=TASK_NAME,\n",
    "            splits=[\"train\", \"val\", \"test\"],\n",
    "            max_sequence_length=256,\n",
    "            tokenizer_name=BERT_MODEL_NAME,\n",
    "            batch_size=BATCH_SIZE,\n",
    "        )"
   ]
  },
  {
   "cell_type": "markdown",
   "metadata": {},
   "source": [
    "# 1. Error Analysis"
   ]
  },
  {
   "cell_type": "markdown",
   "metadata": {},
   "source": [
    "Do offline: load saved model, make csv"
   ]
  },
  {
   "cell_type": "markdown",
   "metadata": {},
   "source": [
    "# 2. Write Slice Function"
   ]
  },
  {
   "cell_type": "code",
   "execution_count": null,
   "metadata": {},
   "outputs": [],
   "source": [
    "from slicing.slicing_function import slicing_function\n",
    "\n",
    "@slicing_function(fields=[\"pos\", \"sentence1\", \"sentence2\", \"sentence1_idx\", \"sentence2_idx\"])\n",
    "def sf(example):\n",
    "    form1 = example.sentence1.split()[example.sentence1_idx]\n",
    "    form2 = example.sentence2.split()[example.sentence2_idx]\n",
    "    return (form1 != form2) and example.pos == \"V\"\n",
    "\n",
    "slicing_functions = [\n",
    "    sf,\n",
    "]"
   ]
  },
  {
   "cell_type": "markdown",
   "metadata": {},
   "source": [
    "# 3. Apply SF"
   ]
  },
  {
   "cell_type": "code",
   "execution_count": null,
   "metadata": {},
   "outputs": [],
   "source": [
    "inds, preds = sf(dataloaders[0].dataset)"
   ]
  },
  {
   "cell_type": "markdown",
   "metadata": {},
   "source": [
    "Is slice large enough?"
   ]
  },
  {
   "cell_type": "code",
   "execution_count": null,
   "metadata": {},
   "outputs": [],
   "source": [
    "count = (inds == 1).sum()\n",
    "total = len(inds)\n",
    "print(f\"Slice labels {count}/{total} ({float(count)/total}) examples\")\n",
    "\n",
    "slice_preds = preds[inds == 1].numpy()\n",
    "print(f\"Slice polarity: {sum(slice_preds == 1)}/{len(slice_preds)} ({sum(slice_preds == 1)/len(slice_preds)}) positive class\")"
   ]
  },
  {
   "cell_type": "markdown",
   "metadata": {},
   "source": [
    "# 4. Static slice check\n",
    "\n",
    "How does vanilla model perform on the slice?"
   ]
  },
  {
   "cell_type": "markdown",
   "metadata": {},
   "source": [
    "Load model"
   ]
  },
  {
   "cell_type": "code",
   "execution_count": null,
   "metadata": {
    "scrolled": false
   },
   "outputs": [],
   "source": [
    "import models\n",
    "tasks = [models.model[TASK_NAME](BERT_MODEL_NAME)]\n",
    "model = EmmentalModel(name=f\"SuperGLUE\", tasks=tasks)\n",
    "model.load(PKL_PATH)"
   ]
  },
  {
   "cell_type": "markdown",
   "metadata": {},
   "source": [
    "Score base and slices"
   ]
  },
  {
   "cell_type": "code",
   "execution_count": null,
   "metadata": {},
   "outputs": [],
   "source": [
    "from slicing import score_slices, slice_func_dict\n",
    "\n",
    "slice_func_dict = {sf.__name__: sf for sf in slicing_functions}\n",
    "# slice_func_dict = slice_func_dict[TASK_NAME]\n",
    "\n",
    "slice_scores = score_slices(model, [dataloaders[1]], [TASK_NAME], slice_func_dict)\n",
    "slice_scores"
   ]
  },
  {
   "cell_type": "markdown",
   "metadata": {},
   "source": [
    "# 5. Dynamic Slice Check\n",
    "\n",
    "Does a model trained on just the slice task improve?"
   ]
  },
  {
   "cell_type": "code",
   "execution_count": null,
   "metadata": {
    "scrolled": true
   },
   "outputs": [],
   "source": [
    "import copy\n",
    "from emmental.data import emmental_collate_fn, EmmentalDataLoader\n",
    "\n",
    "# Slim down datasets to contain just the slices\n",
    "dataloaders = get_dataloaders(\n",
    "            data_dir=DATA_DIR,\n",
    "            task_name=TASK_NAME,\n",
    "            splits=[\"train\", \"val\", \"test\"],\n",
    "            max_sequence_length=256,\n",
    "            tokenizer_name=BERT_MODEL_NAME,\n",
    "            batch_size=BATCH_SIZE,\n",
    "        )\n",
    "\n",
    "\n",
    "slice_dataloaders = []\n",
    "for sf in slicing_functions:\n",
    "    for dataloader in dataloaders:\n",
    "        inds, preds = sf(dataloader.dataset)       \n",
    "        dataset = dataloader.dataset\n",
    "        for key, values in dataset.X_dict.items():\n",
    "            if isinstance(values, torch.Tensor) or isinstance(values, np.ndarray):\n",
    "                dataset.X_dict[key] = [v for v, ind in zip(values, inds) if ind.item() == 1]\n",
    "            elif isinstance(values, list):\n",
    "                dataset.X_dict[key] = [v for v, ind in zip(values, inds) if ind.item() == 1]\n",
    "        for key, values in dataloader.dataset.Y_dict.items():\n",
    "            dataset.Y_dict[key] = values[inds == 1] \n",
    "        slice_dataloaders.append(\n",
    "            EmmentalDataLoader(\n",
    "                dataloader.task_to_label_dict,\n",
    "                dataset,\n",
    "                dataloader.split,\n",
    "                emmental_collate_fn\n",
    "            ))"
   ]
  },
  {
   "cell_type": "code",
   "execution_count": null,
   "metadata": {
    "scrolled": false
   },
   "outputs": [],
   "source": [
    "learner = EmmentalLearner()\n",
    "learner.learn(model, slice_dataloaders)"
   ]
  },
  {
   "cell_type": "markdown",
   "metadata": {},
   "source": [
    "# 6. Full Slicing Model\n",
    "\n",
    "Run a full training operation with a slice-aware model"
   ]
  }
 ],
 "metadata": {
  "kernelspec": {
   "display_name": ".venv",
   "language": "python",
   "name": ".venv"
  },
  "language_info": {
   "codemirror_mode": {
    "name": "ipython",
    "version": 3
   },
   "file_extension": ".py",
   "mimetype": "text/x-python",
   "name": "python",
   "nbconvert_exporter": "python",
   "pygments_lexer": "ipython3",
   "version": "3.6.4"
  }
 },
 "nbformat": 4,
 "nbformat_minor": 2
}
