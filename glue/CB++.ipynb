{
 "cells": [
  {
   "cell_type": "code",
   "execution_count": 1,
   "metadata": {},
   "outputs": [],
   "source": [
    "%load_ext autoreload\n",
    "%autoreload 2"
   ]
  },
  {
   "cell_type": "code",
   "execution_count": 2,
   "metadata": {},
   "outputs": [],
   "source": [
    "import logging\n",
    "from functools import partial\n",
    "\n",
    "import os\n",
    "import torch.nn.functional as F\n",
    "from torch import nn\n",
    "\n",
    "import emmental\n",
    "from emmental import Meta\n",
    "from emmental.data import EmmentalDataLoader, EmmentalDataset\n",
    "from emmental.learner import EmmentalLearner\n",
    "from emmental.model import EmmentalModel\n",
    "from emmental.scorer import Scorer\n",
    "from emmental.task import EmmentalTask\n",
    "from modules.bert_module import BertModule\n",
    "from modules.classification_module import ClassificationModule\n",
    "from preprocessor import preprocessor\n",
    "from task_config import LABEL_MAPPING"
   ]
  },
  {
   "cell_type": "code",
   "execution_count": 3,
   "metadata": {},
   "outputs": [],
   "source": [
    "logger = logging.getLogger(__name__)"
   ]
  },
  {
   "cell_type": "code",
   "execution_count": 4,
   "metadata": {},
   "outputs": [],
   "source": [
    "TASK_NAME = \"MNLI\"\n",
    "DATA_DIR = os.environ[\"GLUEDATA\"]\n",
    "BERT_MODEL_NAME = \"bert-large-uncased\"\n",
    "BATCH_SIZE = 32"
   ]
  },
  {
   "cell_type": "markdown",
   "metadata": {},
   "source": [
    "# Initalize Emmental"
   ]
  },
  {
   "cell_type": "code",
   "execution_count": 5,
   "metadata": {},
   "outputs": [
    {
     "name": "stderr",
     "output_type": "stream",
     "text": [
      "[2019-05-31 01:52:19,333][INFO] emmental.meta:95 - Setting logging directory to: logs/CB_finetune/2019_05_31/01_52_19\n",
      "[2019-05-31 01:52:19,360][INFO] emmental.meta:56 - Loading Emmental default config from /home/hazymturk/vincent/emmental/src/emmental/emmental-default-config.yaml.\n",
      "[2019-05-31 01:52:19,361][INFO] emmental.meta:143 - Updating Emmental config from user provided config.\n"
     ]
    }
   ],
   "source": [
    "emmental.init(\"logs/CB_finetune\",\n",
    "    config={\n",
    "        \"meta_config\": {\"seed\": 1},\n",
    "        \"model_config\": {\"device\": 0, \"dataparallel\": True},\n",
    "        \"learner_config\": {\n",
    "            \"n_epochs\": 10,\n",
    "            \"valid_split\": \"val\",\n",
    "            \"optimizer_config\": {\"optimizer\": \"adam\", \"lr\": 1e-5},\n",
    "            \"lr_scheduler_config\": {\n",
    "                \"lr_scheduler\": \"linear\",  # \"linear\",\n",
    "                \"min_lr\": 1e-7,\n",
    "            },\n",
    "        },\n",
    "        \"logging_config\": {\n",
    "            \"counter_unit\": \"epoch\",\n",
    "            \"evaluation_freq\": 0.5,\n",
    "            \"checkpointing\": True,\n",
    "            \"checkpointer_config\": {\n",
    "                \"checkpoint_metric\": {\"CB/SuperGLUE/val/accuracy\":\"max\"},\n",
    "                \"checkpoint_freq\": 1,\n",
    "            },\n",
    "        },\n",
    "    }\n",
    ")"
   ]
  },
  {
   "cell_type": "markdown",
   "metadata": {},
   "source": [
    "# Extract train/dev/test dataset from file"
   ]
  },
  {
   "cell_type": "code",
   "execution_count": 6,
   "metadata": {},
   "outputs": [],
   "source": [
    "# datasets = {}\n",
    "\n",
    "# # for split in [\"train\", \"dev\", \"test\"]:\n",
    "# for split in [\"dev\"]:\n",
    "#     bert_token_ids, bert_token_segments, bert_token_masks, labels = preprocessor(\n",
    "#         data_dir=DATA_DIR,\n",
    "#         task_name=TASK_NAME,\n",
    "#         split=split,\n",
    "#         bert_model_name=BERT_MODEL_NAME,\n",
    "#         max_data_samples=None,\n",
    "#         max_sequence_length=200,\n",
    "#     )\n",
    "#     X_dict = {\n",
    "#         \"token_ids\": bert_token_ids,\n",
    "#         \"token_segments\": bert_token_segments,\n",
    "#         \"token_masks\": bert_token_masks,\n",
    "#     }\n",
    "#     Y_dict = {\"labels\": labels}\n",
    "\n",
    "#     datasets[split] = EmmentalDataset(name=\"GLUE\", X_dict=X_dict, Y_dict=Y_dict)\n",
    "\n",
    "#     logger.info(f\"Loaded {split} for {TASK_NAME}.\")"
   ]
  },
  {
   "cell_type": "markdown",
   "metadata": {},
   "source": [
    "# Build Emmental dataloader"
   ]
  },
  {
   "cell_type": "code",
   "execution_count": 7,
   "metadata": {},
   "outputs": [],
   "source": [
    "# split = \"train\"\n",
    "# train_dataloader = EmmentalDataLoader(\n",
    "#     task_to_label_dict={TASK_NAME: \"labels\"},\n",
    "#     dataset=datasets[split],\n",
    "#     split=split,\n",
    "#     batch_size=BATCH_SIZE,\n",
    "#     shuffle=True,\n",
    "# )\n",
    "# logger.info(f\"Built dataloader for {split} set.\")\n",
    "\n",
    "# split = \"dev\"\n",
    "# dev_dataloader = EmmentalDataLoader(\n",
    "#     task_to_label_dict={TASK_NAME: \"labels\"},\n",
    "#     dataset=datasets[split],\n",
    "#     split=split,\n",
    "#     batch_size=BATCH_SIZE,\n",
    "# )\n",
    "# logger.info(f\"Built dataloader for {split} set.\")\n",
    "\n",
    "# split = \"test\"\n",
    "# test_dataloader = EmmentalDataLoader(\n",
    "#     task_to_label_dict={TASK_NAME: \"labels\"},\n",
    "#     dataset=datasets[split],\n",
    "#     split=split,\n",
    "#     batch_size=BATCH_SIZE,\n",
    "# )\n",
    "# logger.info(f\"Built dataloader for {split} set.\")"
   ]
  },
  {
   "cell_type": "markdown",
   "metadata": {},
   "source": [
    "# Build Emmental task"
   ]
  },
  {
   "cell_type": "code",
   "execution_count": 8,
   "metadata": {},
   "outputs": [],
   "source": [
    "def ce_loss(task_name, immediate_ouput_dict, Y, active):\n",
    "    module_name = f\"{task_name}_pred_head\"\n",
    "    return F.cross_entropy(\n",
    "        immediate_ouput_dict[module_name][0][active], (Y.view(-1) - 1)[active]\n",
    "    )"
   ]
  },
  {
   "cell_type": "code",
   "execution_count": 9,
   "metadata": {},
   "outputs": [],
   "source": [
    "def output(task_name, immediate_ouput_dict):\n",
    "    module_name = f\"{task_name}_pred_head\"\n",
    "    return F.softmax(immediate_ouput_dict[module_name][0], dim=1)"
   ]
  },
  {
   "cell_type": "code",
   "execution_count": 10,
   "metadata": {},
   "outputs": [
    {
     "name": "stderr",
     "output_type": "stream",
     "text": [
      "[2019-05-31 01:52:28,669][INFO] emmental.model:44 - Created emmental model GLUE_single_task that contains task set().\n",
      "[2019-05-31 01:52:28,670][INFO] emmental.model:58 - Moving model to GPU (cuda:0).\n"
     ]
    }
   ],
   "source": [
    "mtl_model = EmmentalModel(name=\"GLUE_single_task\")"
   ]
  },
  {
   "cell_type": "code",
   "execution_count": 11,
   "metadata": {},
   "outputs": [
    {
     "name": "stderr",
     "output_type": "stream",
     "text": [
      "[2019-05-31 01:52:36,175][INFO] emmental.model:412 - [GLUE_multi_task] Model loaded from /home/hazymturk/vincent/emmental-tutorials/glue/logs/2019_05_30/07_16_23/best_model_MNLI_GLUE_dev_accuracy.pth\n",
      "[2019-05-31 01:52:36,177][INFO] emmental.model:58 - Moving model to GPU (cuda:0).\n"
     ]
    }
   ],
   "source": [
    "mtl_model.load(\n",
    "    \"/home/hazymturk/vincent/emmental-tutorials/glue/logs/2019_05_30/07_16_23/best_model_MNLI_GLUE_dev_accuracy.pth\"\n",
    ")"
   ]
  },
  {
   "cell_type": "code",
   "execution_count": 12,
   "metadata": {},
   "outputs": [],
   "source": [
    "# mtl_model.score(dev_dataloader)"
   ]
  },
  {
   "cell_type": "code",
   "execution_count": 13,
   "metadata": {},
   "outputs": [],
   "source": [
    "TASK_NAME = \"CB\""
   ]
  },
  {
   "cell_type": "code",
   "execution_count": 14,
   "metadata": {},
   "outputs": [],
   "source": [
    "from superglue.parse_CB import get_CB_dataloaders"
   ]
  },
  {
   "cell_type": "code",
   "execution_count": 15,
   "metadata": {},
   "outputs": [],
   "source": [
    "from superglue.task_config import SuperGLUE_LABEL_MAPPING, SuperGLUE_TASK_METRIC_MAPPING"
   ]
  },
  {
   "cell_type": "code",
   "execution_count": 16,
   "metadata": {},
   "outputs": [
    {
     "name": "stderr",
     "output_type": "stream",
     "text": [
      "[2019-05-31 01:52:37,129][INFO] pytorch_pretrained_bert.modeling:583 - loading archive file https://s3.amazonaws.com/models.huggingface.co/bert/bert-large-uncased.tar.gz from cache at ./cache/214d4777e8e3eb234563136cd3a49f6bc34131de836848454373fa43f10adc5e.abfbb80ee795a608acbf35c7bf2d2d58574df3887cdd94b355fc67e03fddba05\n",
      "[2019-05-31 01:52:37,131][INFO] pytorch_pretrained_bert.modeling:591 - extracting archive file ./cache/214d4777e8e3eb234563136cd3a49f6bc34131de836848454373fa43f10adc5e.abfbb80ee795a608acbf35c7bf2d2d58574df3887cdd94b355fc67e03fddba05 to temp dir /tmp/tmp9dtcxee6\n",
      "[2019-05-31 01:52:48,797][INFO] pytorch_pretrained_bert.modeling:601 - Model config {\n",
      "  \"attention_probs_dropout_prob\": 0.1,\n",
      "  \"hidden_act\": \"gelu\",\n",
      "  \"hidden_dropout_prob\": 0.1,\n",
      "  \"hidden_size\": 1024,\n",
      "  \"initializer_range\": 0.02,\n",
      "  \"intermediate_size\": 4096,\n",
      "  \"layer_norm_eps\": 1e-12,\n",
      "  \"max_position_embeddings\": 512,\n",
      "  \"num_attention_heads\": 16,\n",
      "  \"num_hidden_layers\": 24,\n",
      "  \"type_vocab_size\": 2,\n",
      "  \"vocab_size\": 30522\n",
      "}\n",
      "\n",
      "[2019-05-31 01:52:54,129][INFO] emmental.task:34 - Created task: CB\n"
     ]
    }
   ],
   "source": [
    "BERT_OUTPUT_DIM = 768 if \"base\" in BERT_MODEL_NAME else 1024\n",
    "TASK_CARDINALITY = (\n",
    "    len(SuperGLUE_LABEL_MAPPING[TASK_NAME].keys())\n",
    "    if SuperGLUE_LABEL_MAPPING[TASK_NAME] is not None\n",
    "    else 1\n",
    ")\n",
    "\n",
    "emmental_task = EmmentalTask(\n",
    "    name=TASK_NAME,\n",
    "    module_pool=nn.ModuleDict(\n",
    "        {\n",
    "            \"bert_module\": BertModule(BERT_MODEL_NAME),\n",
    "            f\"{TASK_NAME}_pred_head\": nn.Linear(BERT_OUTPUT_DIM, TASK_CARDINALITY),\n",
    "        }\n",
    "    ),\n",
    "    task_flow=[\n",
    "        {\n",
    "            \"name\": \"input\",\n",
    "            \"module\": \"bert_module\",\n",
    "            \"inputs\": [(\"_input_\", \"token_ids\"), (\"_input_\", \"token_segments\")],\n",
    "        },\n",
    "        {\n",
    "            \"name\": f\"{TASK_NAME}_pred_head\",\n",
    "            \"module\": f\"{TASK_NAME}_pred_head\",\n",
    "            \"inputs\": [(\"input\", 1)],\n",
    "        },\n",
    "    ],\n",
    "    loss_func=partial(ce_loss, TASK_NAME),\n",
    "    output_func=partial(output, TASK_NAME),\n",
    "    scorer=Scorer(metrics=SuperGLUE_TASK_METRIC_MAPPING[TASK_NAME]),\n",
    ")"
   ]
  },
  {
   "cell_type": "code",
   "execution_count": 17,
   "metadata": {},
   "outputs": [
    {
     "name": "stderr",
     "output_type": "stream",
     "text": [
      "[2019-05-31 01:52:54,152][INFO] emmental.model:141 - Removing Task MNLI.\n"
     ]
    }
   ],
   "source": [
    "mtl_model.remove_task(\"MNLI\")"
   ]
  },
  {
   "cell_type": "code",
   "execution_count": 18,
   "metadata": {},
   "outputs": [
    {
     "name": "stderr",
     "output_type": "stream",
     "text": [
      "[2019-05-31 01:52:54,216][INFO] emmental.model:58 - Moving model to GPU (cuda:0).\n"
     ]
    }
   ],
   "source": [
    "mtl_model.add_task(emmental_task)"
   ]
  },
  {
   "cell_type": "code",
   "execution_count": 19,
   "metadata": {},
   "outputs": [
    {
     "name": "stderr",
     "output_type": "stream",
     "text": [
      "[2019-05-31 01:52:54,242][INFO] superglue.tokenizer:8 - Loading Tokenizer bert-large-uncased\n",
      "[2019-05-31 01:52:55,049][INFO] pytorch_pretrained_bert.tokenization:190 - loading vocabulary file https://s3.amazonaws.com/models.huggingface.co/bert/bert-large-uncased-vocab.txt from cache at /home/hazymturk/.cache/torch/pytorch_pretrained_bert/9b3c03a36e83b13d5ba95ac965c9f9074a99e14340c523ab405703179e79fc46.542ce4285a40d23a559526243235df47c5f75c197f04f37d1a0c124c32c9a084\n"
     ]
    },
    {
     "name": "stdout",
     "output_type": "stream",
     "text": [
      "/home/hazymturk/vincent/emmental-tutorials/superglue/data/CB/train.jsonl\n",
      "{'premise': 'It was a complex language. Not written down but handed down. One might say it was peeled down.', 'hypothesis': 'the language was peeled down', 'label': 'entailment', 'idx': 0}\n"
     ]
    },
    {
     "name": "stderr",
     "output_type": "stream",
     "text": [
      "[2019-05-31 01:52:55,391][INFO] superglue.parse_CB:123 - Loaded train for CB.\n",
      "[2019-05-31 01:52:55,458][INFO] superglue.parse_CB:123 - Loaded val for CB.\n"
     ]
    },
    {
     "name": "stdout",
     "output_type": "stream",
     "text": [
      "/home/hazymturk/vincent/emmental-tutorials/superglue/data/CB/val.jsonl\n",
      "{'premise': \"Valence the void-brain, Valence the virtuous valet. Why couldn't the figger choose his own portion of titanic anatomy to shaft? Did he think he was helping?\", 'hypothesis': 'Valence was helping', 'label': 'contradiction', 'idx': 0}\n"
     ]
    }
   ],
   "source": [
    "DATA_DIR = os.environ[\"SUPERGLUEDATA\"]\n",
    "dataloaders = get_CB_dataloaders(\n",
    "    data_dir=DATA_DIR,\n",
    "    task_name=TASK_NAME,\n",
    "    splits=[\"train\", \"val\"],\n",
    "    max_sequence_length=200,\n",
    "    max_data_samples=None,\n",
    "    tokenizer_name=BERT_MODEL_NAME,\n",
    "    batch_size=BATCH_SIZE,\n",
    ")"
   ]
  },
  {
   "cell_type": "code",
   "execution_count": 20,
   "metadata": {},
   "outputs": [],
   "source": [
    "# mtl_model.score(dataloaders[\"val\"])"
   ]
  },
  {
   "cell_type": "code",
   "execution_count": 21,
   "metadata": {},
   "outputs": [
    {
     "name": "stderr",
     "output_type": "stream",
     "text": [
      "[2019-05-31 01:52:55,503][INFO] emmental.logging.logging_manager:33 - Evaluating every 0.5 epoch.\n",
      "[2019-05-31 01:52:55,504][INFO] emmental.logging.logging_manager:43 - Checkpointing every 0.5 epoch.\n",
      "[2019-05-31 01:52:55,505][INFO] emmental.logging.checkpointer:42 - Save checkpoints at logs/CB_finetune/2019_05_31/01_52_19 every 0.5 epoch\n",
      "[2019-05-31 01:52:55,506][INFO] emmental.logging.checkpointer:73 - No checkpoints saved before 0 epoch.\n",
      "[2019-05-31 01:52:55,512][INFO] emmental.learner:303 - Start learning...\n"
     ]
    },
    {
     "data": {
      "application/vnd.jupyter.widget-view+json": {
       "model_id": "42ece70c586047a6bc08992a7f11820d",
       "version_major": 2,
       "version_minor": 0
      },
      "text/plain": [
       "HBox(children=(IntProgress(value=0, description='Epoch 0:', max=8, style=ProgressStyle(description_width='init…"
      ]
     },
     "metadata": {},
     "output_type": "display_data"
    },
    {
     "name": "stderr",
     "output_type": "stream",
     "text": [
      "[2019-05-31 01:53:16,008][INFO] emmental.logging.checkpointer:93 - checkpoint_runway condition has been met. Start checkpoining.\n",
      "[2019-05-31 01:53:20,491][INFO] emmental.logging.checkpointer:102 - Save checkpoint of 0.5 epoch at logs/CB_finetune/2019_05_31/01_52_19/checkpoint_0.5.pth.\n",
      "[2019-05-31 01:53:24,990][INFO] emmental.logging.checkpointer:118 - Save best model of metric CB/SuperGLUE/val/accuracy at logs/CB_finetune/2019_05_31/01_52_19/best_model_CB_SuperGLUE_val_accuracy.pth\n",
      "[2019-05-31 01:53:36,068][INFO] emmental.logging.checkpointer:102 - Save checkpoint of 1.0 epoch at logs/CB_finetune/2019_05_31/01_52_19/checkpoint_1.0.pth.\n"
     ]
    },
    {
     "name": "stdout",
     "output_type": "stream",
     "text": [
      "\n"
     ]
    },
    {
     "data": {
      "application/vnd.jupyter.widget-view+json": {
       "model_id": "7a51c9fa1a3b4b9b9e6a8e490c220c77",
       "version_major": 2,
       "version_minor": 0
      },
      "text/plain": [
       "HBox(children=(IntProgress(value=0, description='Epoch 1:', max=8, style=ProgressStyle(description_width='init…"
      ]
     },
     "metadata": {},
     "output_type": "display_data"
    },
    {
     "name": "stderr",
     "output_type": "stream",
     "text": [
      "[2019-05-31 01:53:46,959][INFO] emmental.logging.checkpointer:102 - Save checkpoint of 1.5 epoch at logs/CB_finetune/2019_05_31/01_52_19/checkpoint_1.5.pth.\n",
      "[2019-05-31 01:53:57,504][INFO] emmental.logging.checkpointer:102 - Save checkpoint of 2.0 epoch at logs/CB_finetune/2019_05_31/01_52_19/checkpoint_2.0.pth.\n",
      "[2019-05-31 01:54:58,005][INFO] emmental.logging.checkpointer:118 - Save best model of metric CB/SuperGLUE/val/accuracy at logs/CB_finetune/2019_05_31/01_52_19/best_model_CB_SuperGLUE_val_accuracy.pth\n"
     ]
    },
    {
     "name": "stdout",
     "output_type": "stream",
     "text": [
      "\n"
     ]
    },
    {
     "data": {
      "application/vnd.jupyter.widget-view+json": {
       "model_id": "f4e7373e7ac34129986b3b07f78d46d3",
       "version_major": 2,
       "version_minor": 0
      },
      "text/plain": [
       "HBox(children=(IntProgress(value=0, description='Epoch 2:', max=8, style=ProgressStyle(description_width='init…"
      ]
     },
     "metadata": {},
     "output_type": "display_data"
    },
    {
     "name": "stderr",
     "output_type": "stream",
     "text": [
      "[2019-05-31 01:55:06,665][INFO] emmental.logging.checkpointer:102 - Save checkpoint of 2.5 epoch at logs/CB_finetune/2019_05_31/01_52_19/checkpoint_2.5.pth.\n",
      "[2019-05-31 01:55:17,043][INFO] emmental.logging.checkpointer:102 - Save checkpoint of 3.0 epoch at logs/CB_finetune/2019_05_31/01_52_19/checkpoint_3.0.pth.\n"
     ]
    },
    {
     "name": "stdout",
     "output_type": "stream",
     "text": [
      "\n"
     ]
    },
    {
     "data": {
      "application/vnd.jupyter.widget-view+json": {
       "model_id": "0735afce8aad4aa286a1ef905937fa7b",
       "version_major": 2,
       "version_minor": 0
      },
      "text/plain": [
       "HBox(children=(IntProgress(value=0, description='Epoch 3:', max=8, style=ProgressStyle(description_width='init…"
      ]
     },
     "metadata": {},
     "output_type": "display_data"
    },
    {
     "name": "stderr",
     "output_type": "stream",
     "text": [
      "[2019-05-31 01:55:33,389][INFO] emmental.logging.checkpointer:102 - Save checkpoint of 3.5 epoch at logs/CB_finetune/2019_05_31/01_52_19/checkpoint_3.5.pth.\n",
      "[2019-05-31 01:56:02,343][INFO] emmental.logging.checkpointer:102 - Save checkpoint of 4.0 epoch at logs/CB_finetune/2019_05_31/01_52_19/checkpoint_4.0.pth.\n"
     ]
    },
    {
     "name": "stdout",
     "output_type": "stream",
     "text": [
      "\n"
     ]
    },
    {
     "data": {
      "application/vnd.jupyter.widget-view+json": {
       "model_id": "02cb7c4ea9c940f39670729e34e5e82a",
       "version_major": 2,
       "version_minor": 0
      },
      "text/plain": [
       "HBox(children=(IntProgress(value=0, description='Epoch 4:', max=8, style=ProgressStyle(description_width='init…"
      ]
     },
     "metadata": {},
     "output_type": "display_data"
    },
    {
     "name": "stderr",
     "output_type": "stream",
     "text": [
      "[2019-05-31 01:56:33,769][INFO] emmental.logging.checkpointer:102 - Save checkpoint of 4.5 epoch at logs/CB_finetune/2019_05_31/01_52_19/checkpoint_4.5.pth.\n",
      "[2019-05-31 01:57:05,735][INFO] emmental.logging.checkpointer:102 - Save checkpoint of 5.0 epoch at logs/CB_finetune/2019_05_31/01_52_19/checkpoint_5.0.pth.\n"
     ]
    },
    {
     "name": "stdout",
     "output_type": "stream",
     "text": [
      "\n"
     ]
    },
    {
     "data": {
      "application/vnd.jupyter.widget-view+json": {
       "model_id": "6c0f3d99277240b8b78b90145e13bf11",
       "version_major": 2,
       "version_minor": 0
      },
      "text/plain": [
       "HBox(children=(IntProgress(value=0, description='Epoch 5:', max=8, style=ProgressStyle(description_width='init…"
      ]
     },
     "metadata": {},
     "output_type": "display_data"
    },
    {
     "name": "stderr",
     "output_type": "stream",
     "text": [
      "[2019-05-31 01:57:39,403][INFO] emmental.logging.checkpointer:102 - Save checkpoint of 5.5 epoch at logs/CB_finetune/2019_05_31/01_52_19/checkpoint_5.5.pth.\n",
      "[2019-05-31 01:58:10,077][INFO] emmental.logging.checkpointer:102 - Save checkpoint of 6.0 epoch at logs/CB_finetune/2019_05_31/01_52_19/checkpoint_6.0.pth.\n"
     ]
    },
    {
     "name": "stdout",
     "output_type": "stream",
     "text": [
      "\n"
     ]
    },
    {
     "data": {
      "application/vnd.jupyter.widget-view+json": {
       "model_id": "d259cd263148428292d067facdf154cf",
       "version_major": 2,
       "version_minor": 0
      },
      "text/plain": [
       "HBox(children=(IntProgress(value=0, description='Epoch 6:', max=8, style=ProgressStyle(description_width='init…"
      ]
     },
     "metadata": {},
     "output_type": "display_data"
    },
    {
     "name": "stderr",
     "output_type": "stream",
     "text": [
      "[2019-05-31 01:58:42,127][INFO] emmental.logging.checkpointer:102 - Save checkpoint of 6.5 epoch at logs/CB_finetune/2019_05_31/01_52_19/checkpoint_6.5.pth.\n",
      "[2019-05-31 01:59:14,106][INFO] emmental.logging.checkpointer:102 - Save checkpoint of 7.0 epoch at logs/CB_finetune/2019_05_31/01_52_19/checkpoint_7.0.pth.\n"
     ]
    },
    {
     "name": "stdout",
     "output_type": "stream",
     "text": [
      "\n"
     ]
    },
    {
     "data": {
      "application/vnd.jupyter.widget-view+json": {
       "model_id": "f193add3b19f43eea7230df81fc72144",
       "version_major": 2,
       "version_minor": 0
      },
      "text/plain": [
       "HBox(children=(IntProgress(value=0, description='Epoch 7:', max=8, style=ProgressStyle(description_width='init…"
      ]
     },
     "metadata": {},
     "output_type": "display_data"
    },
    {
     "name": "stderr",
     "output_type": "stream",
     "text": [
      "[2019-05-31 01:59:46,276][INFO] emmental.logging.checkpointer:102 - Save checkpoint of 7.5 epoch at logs/CB_finetune/2019_05_31/01_52_19/checkpoint_7.5.pth.\n",
      "[2019-05-31 02:00:19,186][INFO] emmental.logging.checkpointer:102 - Save checkpoint of 8.0 epoch at logs/CB_finetune/2019_05_31/01_52_19/checkpoint_8.0.pth.\n"
     ]
    },
    {
     "name": "stdout",
     "output_type": "stream",
     "text": [
      "\n"
     ]
    },
    {
     "data": {
      "application/vnd.jupyter.widget-view+json": {
       "model_id": "9b4b6086fa914201ab8c3cf0d8d9d98c",
       "version_major": 2,
       "version_minor": 0
      },
      "text/plain": [
       "HBox(children=(IntProgress(value=0, description='Epoch 8:', max=8, style=ProgressStyle(description_width='init…"
      ]
     },
     "metadata": {},
     "output_type": "display_data"
    },
    {
     "name": "stderr",
     "output_type": "stream",
     "text": [
      "[2019-05-31 02:00:50,109][INFO] emmental.logging.checkpointer:102 - Save checkpoint of 8.5 epoch at logs/CB_finetune/2019_05_31/01_52_19/checkpoint_8.5.pth.\n",
      "[2019-05-31 02:01:22,281][INFO] emmental.logging.checkpointer:102 - Save checkpoint of 9.0 epoch at logs/CB_finetune/2019_05_31/01_52_19/checkpoint_9.0.pth.\n"
     ]
    },
    {
     "name": "stdout",
     "output_type": "stream",
     "text": [
      "\n"
     ]
    },
    {
     "data": {
      "application/vnd.jupyter.widget-view+json": {
       "model_id": "e0fb4c4e6ff84f549cbd949261b6b54c",
       "version_major": 2,
       "version_minor": 0
      },
      "text/plain": [
       "HBox(children=(IntProgress(value=0, description='Epoch 9:', max=8, style=ProgressStyle(description_width='init…"
      ]
     },
     "metadata": {},
     "output_type": "display_data"
    },
    {
     "name": "stderr",
     "output_type": "stream",
     "text": [
      "[2019-05-31 02:01:54,338][INFO] emmental.logging.checkpointer:102 - Save checkpoint of 9.5 epoch at logs/CB_finetune/2019_05_31/01_52_19/checkpoint_9.5.pth.\n",
      "[2019-05-31 02:02:26,110][INFO] emmental.logging.checkpointer:102 - Save checkpoint of 10.0 epoch at logs/CB_finetune/2019_05_31/01_52_19/checkpoint_10.0.pth.\n",
      "[2019-05-31 02:02:26,117][INFO] emmental.logging.checkpointer:148 - Clear all immediate checkpoints.\n"
     ]
    },
    {
     "name": "stdout",
     "output_type": "stream",
     "text": [
      "\n"
     ]
    },
    {
     "name": "stderr",
     "output_type": "stream",
     "text": [
      "[2019-05-31 02:04:47,309][INFO] emmental.logging.checkpointer:188 - Loading the best model from logs/CB_finetune/2019_05_31/01_52_19/best_model_CB_SuperGLUE_val_accuracy.pth.\n",
      "[2019-05-31 02:04:50,415][INFO] emmental.model:58 - Moving model to GPU (cuda:0).\n"
     ]
    }
   ],
   "source": [
    "emmental_learner = EmmentalLearner()\n",
    "emmental_learner.learn(mtl_model, dataloaders.values())"
   ]
  },
  {
   "cell_type": "code",
   "execution_count": 22,
   "metadata": {},
   "outputs": [
    {
     "data": {
      "text/plain": [
       "{'CB/SuperGLUE/val/accuracy': 0.9107142857142857}"
      ]
     },
     "execution_count": 22,
     "metadata": {},
     "output_type": "execute_result"
    }
   ],
   "source": [
    "mtl_model.score(dataloaders[\"val\"])"
   ]
  },
  {
   "cell_type": "code",
   "execution_count": 24,
   "metadata": {},
   "outputs": [
    {
     "name": "stderr",
     "output_type": "stream",
     "text": [
      "[2019-05-31 02:05:05,912][INFO] emmental.model:386 - [GLUE_multi_task] Model saved in ./0530_CB_finetuned\n"
     ]
    }
   ],
   "source": [
    "mtl_model.save(\"./0530_CB_finetuned\")"
   ]
  },
  {
   "cell_type": "code",
   "execution_count": null,
   "metadata": {},
   "outputs": [],
   "source": []
  }
 ],
 "metadata": {
  "kernelspec": {
   "display_name": "Python 3",
   "language": "python",
   "name": "python3"
  },
  "language_info": {
   "codemirror_mode": {
    "name": "ipython",
    "version": 3
   },
   "file_extension": ".py",
   "mimetype": "text/x-python",
   "name": "python",
   "nbconvert_exporter": "python",
   "pygments_lexer": "ipython3",
   "version": "3.7.1"
  }
 },
 "nbformat": 4,
 "nbformat_minor": 2
}
